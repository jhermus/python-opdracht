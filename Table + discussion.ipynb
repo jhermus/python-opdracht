{
 "cells": [
  {
   "cell_type": "markdown",
   "metadata": {},
   "source": [
    "\n",
    "|name|ANR|email|\n",
    "|----|---|-----|\n",
    "|Joep Hermus|568638|j.hermus@tilburguniversity.edu|\n",
    "|Freek Heuvelmans|702516|f.j.heuvelmans@tilburguniversity.edu|\n"
   ]
  },
  {
   "cell_type": "markdown",
   "metadata": {},
   "source": [
    "\n",
    "|Symbol|Definition|\n",
    "|----|---|\n",
    "|$\\tau$|transport costs|\n",
    "|$\\sigma$|elasticity of substitution between manufacturing varieties|\n",
    "|$\\phi$|$\\tau^{1-\\sigma}$ freeness of trade|\n",
    "|$h$|share of total skilled labor supply that works in home region|\n",
    "|$\\rho$|share of labour to human capital owners/share of immobile to mobile workers|\n",
    "|$\\xi$|preference for manufactured goods|\n"
   ]
  },
  {
   "cell_type": "markdown",
   "metadata": {},
   "source": [
    "# Discussion\n",
    "\n",
    "\n",
    "The Pfluger model we presented is a simple model and it is easy to see what happens if different parameters are changed. The model has however some limitations. Not all agglomeration costs are included in the model. In the model agglomeration in one city means that in the other city prices will be higher. This will lead to more firms moving to this city because profits are higher. Another cost of agglomeration is however not included. If more people concentrate congestion and pollution will become a problem. Furthermore housing prices will increase, this happened for example in San Francisco where house prices have increased as a consequence of companies concentrating in Sillicon Valley. "
   ]
  },
  {
   "cell_type": "code",
   "execution_count": null,
   "metadata": {
    "collapsed": true
   },
   "outputs": [],
   "source": []
  }
 ],
 "metadata": {
  "kernelspec": {
   "display_name": "Python [Root]",
   "language": "python",
   "name": "Python [Root]"
  },
  "language_info": {
   "codemirror_mode": {
    "name": "ipython",
    "version": 2
   },
   "file_extension": ".py",
   "mimetype": "text/x-python",
   "name": "python",
   "nbconvert_exporter": "python",
   "pygments_lexer": "ipython2",
   "version": "2.7.12"
  }
 },
 "nbformat": 4,
 "nbformat_minor": 0
}
